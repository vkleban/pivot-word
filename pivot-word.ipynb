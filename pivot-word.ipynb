{
 "cells": [
  {
   "cell_type": "code",
   "execution_count": 5,
   "metadata": {},
   "outputs": [],
   "source": [
    "import os, pickle\n",
    "import torch\n",
    "from transformers import AutoModelForCausalLM, AutoTokenizer, set_seed, logging\n",
    "\n",
    "logging.set_verbosity_error()"
   ]
  },
  {
   "cell_type": "code",
   "execution_count": 6,
   "metadata": {},
   "outputs": [
    {
     "data": {
      "application/vnd.jupyter.widget-view+json": {
       "model_id": "c18096f1394241f4acd84fd1330af45b",
       "version_major": 2,
       "version_minor": 0
      },
      "text/plain": [
       "Loading checkpoint shards:   0%|          | 0/4 [00:00<?, ?it/s]"
      ]
     },
     "metadata": {},
     "output_type": "display_data"
    },
    {
     "data": {
      "application/vnd.jupyter.widget-view+json": {
       "model_id": "51400684074842cc8070336216e85d5b",
       "version_major": 2,
       "version_minor": 0
      },
      "text/plain": [
       "Loading checkpoint shards:   0%|          | 0/4 [00:00<?, ?it/s]"
      ]
     },
     "metadata": {},
     "output_type": "display_data"
    }
   ],
   "source": [
    "model_name = \"meta-llama/Meta-Llama-3-8B-Instruct\"\n",
    "input_text = \"The quick brown fox\"\n",
    "\n",
    "def inference(input_text, model_name=model_name):\n",
    "    \n",
    "    set_seed(42)\n",
    "    model = AutoModelForCausalLM.from_pretrained(model_name)\n",
    "    model.eval()\n",
    "\n",
    "    tokenizer = AutoTokenizer.from_pretrained(model_name)\n",
    "    input_tokens = tokenizer.encode(input_text, return_tensors='pt')\n",
    "\n",
    "    outputs = model.generate(\n",
    "        input_tokens,\n",
    "        max_length=10,\n",
    "        do_sample=True,\n",
    "        temperature=1.0,\n",
    "        output_scores=True,\n",
    "        return_dict_in_generate=True,\n",
    "        output_hidden_states=True,\n",
    "        pad_token_id=tokenizer.eos_token_id\n",
    "    )\n",
    "\n",
    "    # Save model computed attention pairs right before the pivot word is generated\n",
    "    past_key_values = outputs.past_key_values\n",
    "    past_output_tokens = outputs.sequences\n",
    "\n",
    "    set_seed(42)\n",
    "    model = AutoModelForCausalLM.from_pretrained(model_name)\n",
    "    model.eval()\n",
    "    outputs = model.generate(\n",
    "        outputs.sequences,\n",
    "        max_length=outputs.sequences.shape[1] + 1,\n",
    "        do_sample=True,\n",
    "        temperature=1.0,\n",
    "        output_scores=True,\n",
    "        return_dict_in_generate=True,\n",
    "        output_hidden_states=True,\n",
    "        pad_token_id=tokenizer.eos_token_id,\n",
    "        use_cache=True,\n",
    "        past_key_values=past_key_values\n",
    "    )\n",
    "\n",
    "    output_tokens = outputs.sequences\n",
    "    output_text = tokenizer.decode(output_tokens[0], skip_special_tokens=True)\n",
    "\n",
    "    pivot_token = output_tokens[0][-1]\n",
    "    pivot_token_logits = outputs.scores[-1]\n",
    "\n",
    "    return output_text, past_output_tokens, past_key_values, pivot_token, pivot_token_logits\n",
    "\n",
    "\n",
    "output_text_a, output_tokens, past_key_values, pivot_token, pivot_token_logits = inference(input_text)\n"
   ]
  },
  {
   "cell_type": "code",
   "execution_count": 7,
   "metadata": {},
   "outputs": [
    {
     "name": "stdout",
     "output_type": "stream",
     "text": [
      "Alice's Prompt: The quick brown fox\n",
      "Bob's Response: The quick brown fox jumps over the lazy dog.\n",
      "\n",
      "Bob's Pivot Token: 627\n",
      "Bob's Pivot Token Logits: [15.159561 17.353573 16.755339 15.155735 17.361267 14.286188]\n",
      "Past size (KB): 2323\n"
     ]
    }
   ],
   "source": [
    "print(f\"{'Alice\\'s Prompt:':<15} {input_text}\")\n",
    "print(f\"{'Bob\\'s Response:':<15} {output_text_a}\")\n",
    "print(f\"Bob\\'s Pivot Token: {pivot_token}\")\n",
    "print(f\"Bob's Pivot Token Logits: {pivot_token_logits[pivot_token_logits > 0].numpy()}\")\n",
    "\n",
    "with open(\"past.pkl\", \"wb\") as file:\n",
    "    pickle.dump(past_key_values, file)\n",
    "size = os.path.getsize(\"past.pkl\")\n",
    "print(f\"Past size (KB): {size // 1024}\")"
   ]
  },
  {
   "cell_type": "code",
   "execution_count": 8,
   "metadata": {},
   "outputs": [
    {
     "data": {
      "application/vnd.jupyter.widget-view+json": {
       "model_id": "972d5c25bc2c4bb6b9c8e28102727d2a",
       "version_major": 2,
       "version_minor": 0
      },
      "text/plain": [
       "Loading checkpoint shards:   0%|          | 0/4 [00:00<?, ?it/s]"
      ]
     },
     "metadata": {},
     "output_type": "display_data"
    }
   ],
   "source": [
    "def validation(past_output_tokens, past_key_values, pivot_token, pivot_token_logits, model_name=model_name):\n",
    "    \n",
    "    set_seed(42)\n",
    "    model = AutoModelForCausalLM.from_pretrained(model_name)\n",
    "    model.eval()\n",
    "\n",
    "    tokenizer = AutoTokenizer.from_pretrained(model_name)\n",
    "\n",
    "    outputs = model.generate(\n",
    "        past_output_tokens,\n",
    "        max_length=past_output_tokens.shape[1] + 1,\n",
    "        do_sample=True,\n",
    "        temperature=1.0,\n",
    "        output_scores=True,\n",
    "        return_dict_in_generate=True,\n",
    "        output_hidden_states=True,\n",
    "        pad_token_id=tokenizer.eos_token_id,\n",
    "        use_cache=True,\n",
    "        past_key_values=past_key_values\n",
    "    )\n",
    "\n",
    "    output_tokens = outputs.sequences\n",
    "    output_text = tokenizer.decode(output_tokens[0], skip_special_tokens=True)\n",
    "    tokens_match = pivot_token==output_tokens[0][-1]\n",
    "    logits_match = torch.allclose(pivot_token_logits, outputs.scores[-1], atol=1e-6)\n",
    "\n",
    "    return output_text, tokens_match, logits_match, output_tokens[0][-1], outputs.scores[-1]\n",
    "\n",
    "\n",
    "output_text_b, equal_tokens, equal_logits, token, logits = validation(output_tokens, past_key_values, pivot_token, pivot_token_logits)\n"
   ]
  },
  {
   "cell_type": "code",
   "execution_count": 11,
   "metadata": {},
   "outputs": [
    {
     "name": "stdout",
     "output_type": "stream",
     "text": [
      "Alice's Prompt: The quick brown fox\n",
      "Bob's Response: The quick brown fox jumps over the lazy dog.\n",
      "\n",
      "Bob's Pivot Token:       : 627\n",
      "Alices's Pivot Token:    : 627\n",
      "Bob's Pivot Token Logits:      [15.159561 17.353573 16.755339 15.155735 17.361267 14.286188]\n",
      "Alices's Pivot Token Logits:   [15.159561 17.353573 16.755339 15.155735 17.361267 14.286188]\n"
     ]
    }
   ],
   "source": [
    "print(f\"{'Alice\\'s Prompt:':<15} {input_text}\")\n",
    "print(f\"{'Bob\\'s Response:':<15} {output_text_a}\")\n",
    "print(f\"{'Bob\\'s Pivot Token:':<25}: {pivot_token}\")\n",
    "print(f\"{'Alices\\'s Pivot Token:':<25}: {token}\")\n",
    "\n",
    "print(f\"{'Bob\\'s Pivot Token Logits:':<30} {pivot_token_logits[pivot_token_logits > 0].numpy()}\")\n",
    "print(f\"{'Alices\\'s Pivot Token Logits:':<30} {logits[logits > 0].numpy()}\")"
   ]
  },
  {
   "cell_type": "code",
   "execution_count": null,
   "metadata": {},
   "outputs": [],
   "source": []
  }
 ],
 "metadata": {
  "kernelspec": {
   "display_name": "ml",
   "language": "python",
   "name": "python3"
  },
  "language_info": {
   "codemirror_mode": {
    "name": "ipython",
    "version": 3
   },
   "file_extension": ".py",
   "mimetype": "text/x-python",
   "name": "python",
   "nbconvert_exporter": "python",
   "pygments_lexer": "ipython3",
   "version": "3.12.2"
  }
 },
 "nbformat": 4,
 "nbformat_minor": 2
}
